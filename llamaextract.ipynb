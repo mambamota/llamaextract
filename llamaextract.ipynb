{
 "cells": [
  {
   "cell_type": "code",
   "execution_count": null,
   "id": "97cdb94a",
   "metadata": {},
   "outputs": [],
   "source": [
    "%pip install -q python-dotenv"
   ]
  },
  {
   "cell_type": "code",
   "execution_count": null,
   "id": "d3e967d6",
   "metadata": {},
   "outputs": [
    {
     "name": "stdout",
     "output_type": "stream",
     "text": [
      "Note: you may need to restart the kernel to use updated packages.\n",
      "API Key loaded: True\n"
     ]
    }
   ],
   "source": [
    "# Install python-dotenv if not already installed\n",
    "\n",
    "\n",
    "# Load environment variables from .env file\n",
    "from dotenv import load_dotenv\n",
    "import os\n",
    "\n",
    "load_dotenv()  # This will load variables from .env into the environment\n",
    "\n",
    "# Example: Access your key (replace 'YOUR_KEY_NAME' with the actual key name)\n",
    "api_key = os.getenv('LLAMA_CLOUD_API_KEY')\n",
    "print(\"API Key loaded:\", api_key is not None)"
   ]
  },
  {
   "cell_type": "code",
   "execution_count": 2,
   "metadata": {},
   "outputs": [
    {
     "name": "stdout",
     "output_type": "stream",
     "text": [
      "Requirement already satisfied: pydantic in c:\\ai projects\\llamaextract\\.venv\\lib\\site-packages (2.11.7)\n",
      "Requirement already satisfied: annotated-types>=0.6.0 in c:\\ai projects\\llamaextract\\.venv\\lib\\site-packages (from pydantic) (0.7.0)\n",
      "Requirement already satisfied: pydantic-core==2.33.2 in c:\\ai projects\\llamaextract\\.venv\\lib\\site-packages (from pydantic) (2.33.2)\n",
      "Requirement already satisfied: typing-extensions>=4.12.2 in c:\\ai projects\\llamaextract\\.venv\\lib\\site-packages (from pydantic) (4.14.1)\n",
      "Requirement already satisfied: typing-inspection>=0.4.0 in c:\\ai projects\\llamaextract\\.venv\\lib\\site-packages (from pydantic) (0.4.1)\n",
      "Note: you may need to restart the kernel to use updated packages.\n"
     ]
    }
   ],
   "source": [
    "%pip install pydantic"
   ]
  },
  {
   "cell_type": "code",
   "execution_count": null,
   "id": "0a5a9c51",
   "metadata": {},
   "outputs": [],
   "source": [
    "from llama_cloud_services import LlamaExtract\n",
    "from pydantic import BaseModel, Field\n",
    "\n",
    "# Initialize client\n",
    "extractor = LlamaExtract()\n",
    "\n",
    "# Define schema using Pydantic\n",
    "class Resume(BaseModel):\n",
    "    name: str = Field(description=\"Full name of candidate\")\n",
    "    email: str = Field(description=\"Email address\")\n",
    "    skills: list[str] = Field(description=\"Technical skills and technologies\")\n",
    "\n",
    "\n",
    "# Create extraction agent\n",
    "agent = extractor.create_agent(name=\"resume-parser\", data_schema=Resume)\n",
    "\n",
    "# Extract data from document\n",
    "result = agent.extract(\"data/cv fakedata1.pdf\")"
   ]
  },
  {
   "cell_type": "code",
   "execution_count": 10,
   "id": "d8ca852b",
   "metadata": {},
   "outputs": [
    {
     "data": {
      "text/plain": [
       "{'id': 'f456b4b8-0416-46ad-934d-23c6084dcce1',\n",
       " 'created_at': datetime.datetime(2025, 7, 9, 15, 10, 35, 444195, tzinfo=datetime.timezone.utc),\n",
       " 'updated_at': datetime.datetime(2025, 7, 9, 15, 10, 54, 53678, tzinfo=datetime.timezone.utc),\n",
       " 'extraction_agent_id': '9e5e4cac-745d-4ff8-aada-d74ac84e0971',\n",
       " 'data_schema': {'additionalProperties': False,\n",
       "  'properties': {'name': {'description': 'Full name of candidate',\n",
       "    'type': 'string'},\n",
       "   'email': {'description': 'Email address', 'type': 'string'},\n",
       "   'skills': {'description': 'Technical skills and technologies',\n",
       "    'items': {'type': 'string'},\n",
       "    'type': 'array'}},\n",
       "  'required': ['name', 'email', 'skills'],\n",
       "  'type': 'object'},\n",
       " 'config': ExtractConfig(priority=None, extraction_target=<ExtractTarget.PER_DOC: 'PER_DOC'>, extraction_mode=<ExtractMode.BALANCED: 'BALANCED'>, multimodal_fast_mode=False, system_prompt=None, use_reasoning=False, cite_sources=False, chunk_mode=<DocumentChunkMode.PAGE: 'PAGE'>, invalidate_cache=False),\n",
       " 'file': File(id='e1513f66-7522-4b0a-8107-a1d8817d5614', created_at=datetime.datetime(2025, 7, 9, 15, 10, 35, 194047, tzinfo=datetime.timezone.utc), updated_at=datetime.datetime(2025, 7, 9, 15, 10, 35, 194047, tzinfo=datetime.timezone.utc), name='cv fakedata1.pdf', external_file_id='cv fakedata1.pdf', file_size=103214, file_type='pdf', project_id='679a928f-239b-49ef-9668-3f06490822d3', last_modified_at=datetime.datetime(2025, 7, 9, 15, 10, 35, tzinfo=datetime.timezone.utc), resource_info={'file_size': 103214, 'last_modified_at': '2025-07-09T15:10:35'}, permission_info=None, data_source_id=None),\n",
       " 'status': <ExtractState.SUCCESS: 'SUCCESS'>,\n",
       " 'error': None,\n",
       " 'job_id': '2b574488-6941-4aff-a90d-02531bbf287f',\n",
       " 'data': {'name': 'Manasi Goyal',\n",
       "  'email': 'manasi@example.com',\n",
       "  'skills': ['Design software',\n",
       "   'Visual communication',\n",
       "   'Branding',\n",
       "   'Project management']},\n",
       " 'extraction_metadata': {'field_metadata': {},\n",
       "  'usage': {'num_pages_extracted': 1,\n",
       "   'num_document_tokens': 290,\n",
       "   'num_output_tokens': 30}},\n",
       " 'from_ui': False}"
      ]
     },
     "execution_count": 10,
     "metadata": {},
     "output_type": "execute_result"
    }
   ],
   "source": [
    "result.__dict__"
   ]
  },
  {
   "cell_type": "code",
   "execution_count": 5,
   "id": "f737a29f",
   "metadata": {},
   "outputs": [
    {
     "data": {
      "text/plain": [
       "{'name': 'Manasi Goyal',\n",
       " 'email': 'manasi@example.com',\n",
       " 'skills': ['Design software',\n",
       "  'Visual communication',\n",
       "  'Branding',\n",
       "  'Project management']}"
      ]
     },
     "execution_count": 5,
     "metadata": {},
     "output_type": "execute_result"
    }
   ],
   "source": [
    "result.data"
   ]
  },
  {
   "cell_type": "code",
   "execution_count": 6,
   "id": "b974cbef",
   "metadata": {},
   "outputs": [
    {
     "name": "stdout",
     "output_type": "stream",
     "text": [
      "[ExtractionAgent(id=9e5e4cac-745d-4ff8-aada-d74ac84e0971, name=resume-parser)]\n"
     ]
    }
   ],
   "source": [
    "from llama_cloud_services import LlamaExtract\n",
    "\n",
    "# Initialize client\n",
    "extractor = LlamaExtract()\n",
    "\n",
    "# List all agents\n",
    "agents = extractor.list_agents()\n",
    "\n",
    "print(agents)"
   ]
  },
  {
   "cell_type": "code",
   "execution_count": 7,
   "id": "4bb35344",
   "metadata": {},
   "outputs": [],
   "source": [
    "# Get specific agent\n",
    "agent = extractor.get_agent(id=\"9e5e4cac-745d-4ff8-aada-d74ac84e0971\") # or id as param\n",
    "\n",
    "# Delete agent\n",
    "extractor.delete_agent(agent.id)"
   ]
  },
  {
   "cell_type": "code",
   "execution_count": 14,
   "id": "1075a7f0",
   "metadata": {},
   "outputs": [],
   "source": [
    "agent = extractor.get_agent(name=\"resume-parser\")"
   ]
  },
  {
   "cell_type": "code",
   "execution_count": 15,
   "id": "11de98a6",
   "metadata": {},
   "outputs": [
    {
     "name": "stderr",
     "output_type": "stream",
     "text": [
      "Uploading files: 100%|██████████| 2/2 [00:00<00:00,  2.73it/s]\n",
      "Creating extraction jobs: 100%|██████████| 2/2 [00:04<00:00,  2.14s/it]\n"
     ]
    }
   ],
   "source": [
    "# Queue multiple files for extraction\n",
    "jobs = await agent.queue_extraction([\"data/cv fakedata1.pdf\", \"data/cv fakedata1.docx\"])"
   ]
  },
  {
   "cell_type": "code",
   "execution_count": 17,
   "id": "51612b7b",
   "metadata": {},
   "outputs": [
    {
     "name": "stdout",
     "output_type": "stream",
     "text": [
      "Job 7403de4c-ed4d-45f1-a4c4-f6a80a890ccd: StatusEnum.SUCCESS\n",
      "Job 7f8cf56a-461e-4ab9-92b0-427d52ead59e: StatusEnum.PENDING\n"
     ]
    }
   ],
   "source": [
    "# Check job status\n",
    "for job in jobs:\n",
    "    status = agent.get_extraction_job(job.id).status\n",
    "    print(f\"Job {job.id}: {status}\")"
   ]
  },
  {
   "cell_type": "code",
   "execution_count": 18,
   "id": "15591504",
   "metadata": {},
   "outputs": [
    {
     "name": "stdout",
     "output_type": "stream",
     "text": [
      "{'name': 'Manasi Goyal', 'email': 'manasi@example.com', 'skills': ['Design software', 'Visual communication', 'Branding', 'Project management']}\n",
      "None\n"
     ]
    }
   ],
   "source": [
    "# Get results when complete\n",
    "results = [agent.get_extraction_run_for_job(job.id) for job in jobs]\n",
    "\n",
    "for result in results:\n",
    "    print(result.data)"
   ]
  },
  {
   "cell_type": "code",
   "execution_count": null,
   "id": "491f44d3",
   "metadata": {},
   "outputs": [
    {
     "name": "stderr",
     "output_type": "stream",
     "text": [
      "Uploading files: 100%|██████████| 1/1 [00:00<00:00,  1.11it/s]\n",
      "Creating extraction jobs: 100%|██████████| 1/1 [00:01<00:00,  1.52s/it]\n",
      "Extracting files: 100%|██████████| 1/1 [00:06<00:00,  6.38s/it]\n",
      "Uploading files: 100%|██████████| 1/1 [00:00<00:00,  1.47it/s]\n",
      "Creating extraction jobs: 100%|██████████| 1/1 [00:01<00:00,  1.60s/it]\n",
      "Extracting files: 100%|██████████| 1/1 [00:09<00:00,  9.98s/it]\n"
     ]
    }
   ],
   "source": [
    "from pydantic import BaseModel, Field\n",
    "\n",
    "agent = extractor.get_agent(name=\"resume-parser\")\n",
    "\n",
    "# Define schema using Pydantic\n",
    "class Resume(BaseModel):\n",
    "    name: str = Field(description=\"Full name of candidate\")\n",
    "    email: str = Field(description=\"Email address\")\n",
    "    skills: list[str] = Field(description=\"Technical skills and technologies\")\n",
    "    location: str = Field(description=\"Location of candidate\")\n",
    "    education: str = Field(description=\"Education of candidate\")\n",
    "\n",
    "# Update schema\n",
    "agent.data_schema = Resume\n",
    "\n",
    "# Save changes\n",
    "agent.save()"
   ]
  },
  {
   "cell_type": "code",
   "execution_count": 21,
   "id": "75d3d0cc",
   "metadata": {},
   "outputs": [],
   "source": [
    "result = agent.extract(\"data/cv fakedata1.pdf\")"
   ]
  },
  {
   "cell_type": "code",
   "execution_count": 22,
   "id": "48931d51",
   "metadata": {},
   "outputs": [
    {
     "data": {
      "text/plain": [
       "{'name': 'Manasi Goyal',\n",
       " 'email': 'manasi@example.com',\n",
       " 'skills': ['Design software',\n",
       "  'Visual communication',\n",
       "  'Branding',\n",
       "  'Project management'],\n",
       " 'location': 'Pune, Maharashtra',\n",
       " 'education': 'Master of Arts Graphic Design, Graphic Design Institute; BA Fine Arts Graphic Design, School of Fine Art'}"
      ]
     },
     "execution_count": 22,
     "metadata": {},
     "output_type": "execute_result"
    }
   ],
   "source": [
    "result.data"
   ]
  },
  {
   "cell_type": "code",
   "execution_count": 23,
   "id": "283532d8",
   "metadata": {},
   "outputs": [
    {
     "name": "stderr",
     "output_type": "stream",
     "text": [
      "Uploading files: 100%|██████████| 1/1 [00:00<00:00,  1.59it/s]\n",
      "Creating extraction jobs: 100%|██████████| 1/1 [00:00<00:00,  1.26it/s]\n",
      "Extracting files: 100%|██████████| 1/1 [00:18<00:00, 18.37s/it]\n"
     ]
    }
   ],
   "source": [
    "from llama_cloud_services import LlamaExtract\n",
    "from llama_cloud.core.api_error import ApiError\n",
    "from llama_cloud import ExtractConfig\n",
    "\n",
    "\n",
    "extract = LlamaExtract(\n",
    "    project_id=\"679a928f-239b-49ef-9668-3f06490822d3\",\n",
    "    organization_id=\"a6047f85-dddc-45e7-bc37-aad53a2e3a76\",\n",
    ")\n",
    "\n",
    "try:\n",
    "    agent = extract.get_agent(name=\"resume-parser\")\n",
    "    if agent:\n",
    "        extract.delete_agent(agent_id=agent.id)\n",
    "\n",
    "except ApiError as e:\n",
    "    if e.status_code == 404:\n",
    "        pass\n",
    "    else:\n",
    "        raise\n",
    "\n",
    "\n",
    "# extract one object per page\n",
    "extract_config = ExtractConfig(\n",
    "    extraction_mode=\"FAST\", # FAST, BALANCED, MULTIMODAL, PREMIUM\n",
    "    system_prompt=\"this is an resume for the company 'ACME'\",\n",
    "    extraction_target=\"PER_PAGE\", # PER_DOC, PER_PAGE\n",
    "    use_reasoning=False,\n",
    "    cite_sources=False\n",
    ")\n",
    "\n",
    "agent = extract.create_agent(name=\"resume-parser\", data_schema=Resume, config=extract_config)\n",
    "\n",
    "result = agent.extract(\"data/cv fakedata1.pdf\")"
   ]
  },
  {
   "cell_type": "code",
   "execution_count": 24,
   "id": "9e4dd59b",
   "metadata": {},
   "outputs": [
    {
     "name": "stdout",
     "output_type": "stream",
     "text": [
      "[{'education': 'Master of Arts Graphic Design, Graphic Design Institute; BA '\n",
      "               'Fine Arts Graphic Design, School of Fine Art',\n",
      "  'email': 'manasi@example.com',\n",
      "  'location': 'Pune, Maharashtra',\n",
      "  'name': 'Manasi Goyal',\n",
      "  'skills': ['Design software',\n",
      "             'Visual communication',\n",
      "             'Branding',\n",
      "             'Project management']}]\n"
     ]
    }
   ],
   "source": [
    "from pprint import pprint\n",
    "\n",
    "pprint(result.data)"
   ]
  }
 ],
 "metadata": {
  "kernelspec": {
   "display_name": "Python (llamaExtract)",
   "language": "python",
   "name": "llamaextract"
  },
  "language_info": {
   "codemirror_mode": {
    "name": "ipython",
    "version": 3
   },
   "file_extension": ".py",
   "mimetype": "text/x-python",
   "name": "python",
   "nbconvert_exporter": "python",
   "pygments_lexer": "ipython3",
   "version": "3.12.11"
  }
 },
 "nbformat": 4,
 "nbformat_minor": 5
}
